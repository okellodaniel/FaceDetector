{
 "cells": [
  {
   "cell_type": "code",
   "execution_count": null,
   "metadata": {},
   "outputs": [],
   "source": [
    "# Face Detection\n",
    "'''\n",
    "- Technique that identifies or locates human faces in Digital \n",
    "  images\n",
    "- Performed using classifiers( An algorithm that decides whether a Given\n",
    "    image is Positive(face) or Negative (Not face))\n",
    "\n",
    "*** OpenCVs classifiers are\n",
    "    - Haar Classifier\n",
    "    - Local Binary Pattern (LBP) classifier\n",
    "\n",
    "'''\n"
   ]
  },
  {
   "cell_type": "code",
   "execution_count": null,
   "metadata": {},
   "outputs": [],
   "source": [
    "'''\n",
    "    Haar feature-based cascade classifiers\n",
    "==============================================\n",
    "'''\n",
    "'''\n",
    "Haar cascade classifier employs a machine learning approach for visual object detection \n",
    "which is capable of processing images extremely rapidly and achieving high detection rates. \n",
    "This can be attributed to three main reasons:\n",
    "\n",
    "- Haar classifier employs 'Integral Image' concept which allows the features used by the \n",
    "    detector to be computed very quickly.\n",
    "- The learning algorithm is based on AdaBoost. It selects a small number of important features \n",
    "  from a large set and gives highly efficient classifiers.\n",
    "- More complex classifiers are combined to form a 'cascade' which discard any non-face regions \n",
    " in an image, thereby spending more computation on promising object-like regions.\n",
    "'''\n",
    "\n",
    "# AdaBoost Algorithm works in the following Steps\n",
    "\n",
    "'''\n",
    "1. 'Hars features. extraction\n",
    "2. 'Integral Images' Concept\n",
    "3. 'AdaBoost': to improve classifer accuracy\n",
    "4.  Using 'Cascade of classifiers'\n",
    "'''"
   ]
  }
 ],
 "metadata": {
  "language_info": {
   "name": "python"
  },
  "orig_nbformat": 4
 },
 "nbformat": 4,
 "nbformat_minor": 2
}
